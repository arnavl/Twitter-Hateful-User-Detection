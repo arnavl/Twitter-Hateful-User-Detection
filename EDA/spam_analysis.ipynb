{
 "cells": [
  {
   "cell_type": "code",
   "execution_count": 6,
   "metadata": {},
   "outputs": [],
   "source": [
    "import matplotlib.pyplot as plt\n",
    "import pandas as pd\n",
    "import scipy.stats as stats\n",
    "import seaborn as sns\n",
    "from matplotlib.ticker import FuncFormatter\n",
    "\n",
    "from tmp.utils import formatter"
   ]
  },
  {
   "cell_type": "code",
   "execution_count": 7,
   "metadata": {},
   "outputs": [
    {
     "data": {
      "image/png": "[encoded data removed]",
      "text/plain": [
       "<Figure size 388.8x144 with 3 Axes>"
      ]
     },
     "metadata": {},
     "output_type": "display_data"
    }
   ],
   "source": [
    "form = FuncFormatter(formatter)\n",
    "\n",
    "plt.rc('font', family='serif')\n",
    "plt.rc('text', usetex=False)\n",
    "sns.set(style=\"whitegrid\", font=\"serif\")\n",
    "color_mine = [\"#F8414A\", \"#5676A1\", \"#FD878D\", \"#385A89\",  \"#FFFACD\", \"#EFCC00\"]\n",
    "\n",
    "df = pd.read_csv(\"../data/users_neighborhood_anon.csv\")\n",
    "\n",
    "df[\"followers_followees\"] = df[\"followers_count\"] / (df[\"followees_count\"])\n",
    "df[\"number_urls\"] = df[\"number urls\"] / (df[\"tweet number\"] + df[\"retweet number\"] + df[\"quote number\"])\n",
    "df[\"number hashtags\"] = df[\"number hashtags\"] / (df[\"tweet number\"] + df[\"retweet number\"] + df[\"quote number\"])\n",
    "\n",
    "f, axzs = plt.subplots(1, 3, figsize=(5.4, 2))\n",
    "boxprops = dict(linewidth=0.3)\n",
    "whiskerprops = dict(linewidth=0.3)\n",
    "capprops = dict(linewidth=0.3)\n",
    "medianprops = dict(linewidth=1)"
   ]
  },
  {
   "cell_type": "code",
   "execution_count": 8,
   "metadata": {},
   "outputs": [
    {
     "name": "stderr",
     "output_type": "stream",
     "text": [
      "C:\\Users\\uditi\\Anaconda3\\lib\\site-packages\\ipykernel_launcher.py:25: RuntimeWarning: invalid value encountered in less\n"
     ]
    },
    {
     "name": "stdout",
     "output_type": "stream",
     "text": [
      "\\#followers/followees\n",
      "0.003761403168981752\n",
      "0.05793447228613198\n",
      "0.13778264780176858\n"
     ]
    },
    {
     "name": "stderr",
     "output_type": "stream",
     "text": [
      "C:\\Users\\uditi\\Anaconda3\\lib\\site-packages\\ipykernel_launcher.py:25: RuntimeWarning: invalid value encountered in less\n"
     ]
    },
    {
     "name": "stdout",
     "output_type": "stream",
     "text": [
      "\\#URLs/tweet\n",
      "2.6489075853321047e-12\n",
      "4.076610009176103e-55\n",
      "1.784100806177049e-44\n"
     ]
    },
    {
     "name": "stderr",
     "output_type": "stream",
     "text": [
      "C:\\Users\\uditi\\Anaconda3\\lib\\site-packages\\ipykernel_launcher.py:25: RuntimeWarning: invalid value encountered in less\n"
     ]
    },
    {
     "name": "stdout",
     "output_type": "stream",
     "text": [
      "hashtags/tweet\n",
      "1.330042960472912e-23\n",
      "5.4597219753975935e-18\n",
      "1.340751737584485e-17\n"
     ]
    }
   ],
   "source": [
    "attributes_all = [\n",
    "    [\"followers_followees\", \"number_urls\", \"number hashtags\"]]\n",
    "\n",
    "titles_all = [\n",
    "    [\"\\#followers/followees\", \"\\#URLs/tweet\", \"hashtags/tweet\"]]\n",
    "\n",
    "\n",
    "for axs, attributes, titles in zip([axzs], attributes_all, titles_all):\n",
    "\n",
    "    for axis, attribute, title in zip(axs, attributes, titles):\n",
    "        men = [df[df.hate == \"hateful\"],\n",
    "               df[df.hate == \"normal\"],\n",
    "               df[df.hate_neigh],\n",
    "               df[df.normal_neigh],\n",
    "               df[df.is_63_2 == True],\n",
    "               df[df.is_63_2 == False]]\n",
    "\n",
    "        tmp = []\n",
    "        medians, medians_ci = [], []\n",
    "        averages, averages_ci = [], []\n",
    "\n",
    "        for category in men:\n",
    "\n",
    "            w_inf = category[attribute].values\n",
    "            non_inf = w_inf[w_inf < 1E308]\n",
    "            tmp.append(non_inf)\n",
    "\n",
    "        _, n_h = stats.ttest_ind(tmp[0], tmp[1], equal_var=False, nan_policy='omit')\n",
    "        _, nn_nh = stats.ttest_ind(tmp[2], tmp[3], equal_var=False, nan_policy='omit')\n",
    "        _, ns_ns2 = stats.ttest_ind(tmp[4], tmp[5], equal_var=False, nan_policy='omit')\n",
    "\n",
    "        print(title)\n",
    "        print(n_h)\n",
    "        print(nn_nh)\n",
    "        print(ns_ns2)\n",
    "\n",
    "        rects = sns.boxplot(data=tmp, palette=color_mine, showfliers=False, ax=axis, orient=\"v\", width=0.8,\n",
    "                            boxprops=boxprops, whiskerprops=whiskerprops, capprops=capprops, medianprops=medianprops)\n",
    "\n",
    "        axis.yaxis.set_major_formatter(form)\n",
    "\n",
    "        axis.set_xticks([])\n",
    "        axis.set_title(title)\n",
    "        axis.set_ylabel(\"\")\n",
    "        axis.set_xlabel(\"\")\n",
    "        axis.axvline(1.5, ls='dashed', linewidth=0.3, color=\"#C0C0C0\")\n",
    "        axis.axvline(3.5, ls='dashed', linewidth=0.3, color=\"#C0C0C0\")\n",
    "\n",
    "\n",
    "f.tight_layout(rect=[0, 0, 1, 1])\n",
    "\n",
    "f.savefig(\"results/spam.pdf\")"
   ]
  }
 ],
 "metadata": {
  "kernelspec": {
   "display_name": "Python 3",
   "language": "python",
   "name": "python3"
  },
  "language_info": {
   "codemirror_mode": {
    "name": "ipython",
    "version": 3
   },
   "file_extension": ".py",
   "mimetype": "text/x-python",
   "name": "python",
   "nbconvert_exporter": "python",
   "pygments_lexer": "ipython3",
   "version": "3.6.4"
  }
 },
 "nbformat": 4,
 "nbformat_minor": 2
}
