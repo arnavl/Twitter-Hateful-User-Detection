{
 "cells": [
  {
   "cell_type": "code",
   "execution_count": 1,
   "metadata": {},
   "outputs": [],
   "source": [
    "import datetime\n",
    "import matplotlib\n",
    "import matplotlib.pyplot as plt\n",
    "import numpy as np\n",
    "import pandas as pd\n",
    "import scipy.stats as stats\n",
    "import seaborn as sns\n",
    "from matplotlib.ticker import FuncFormatter\n",
    "from seaborn.algorithms import bootstrap\n",
    "from seaborn.utils import ci\n",
    "\n",
    "from tmp.utils import formatter\n"
   ]
  },
  {
   "cell_type": "code",
   "execution_count": 2,
   "metadata": {},
   "outputs": [
    {
     "data": {
      "image/png": "[encoded data removed]",
      "text/plain": [
       "<Figure size 777.6x144 with 5 Axes>"
      ]
     },
     "metadata": {},
     "output_type": "display_data"
    }
   ],
   "source": [
    "form = FuncFormatter(formatter)\n",
    "\n",
    "plt.rc('font', family='serif')\n",
    "plt.rc('text', usetex=False)\n",
    "sns.set(style=\"whitegrid\", font=\"serif\")\n",
    "color_mine = [\"#F8414A\", \"#5676A1\", \"#FD878D\", \"#385A89\",  \"#FFFACD\", \"#EFCC00\"]\n",
    "\n",
    "df = pd.read_csv(\"../data/users_neighborhood_anon.csv\")\n",
    "df = df[df[\"created_at\"].notnull()]\n",
    "\n",
    "f, axzs = plt.subplots(1, 5, figsize=(10.8, 2))\n",
    "axzs = [axzs]\n",
    "boxprops = dict(linewidth=0.3)\n",
    "whiskerprops = dict(linewidth=0.3)\n",
    "capprops = dict(linewidth=0.3)\n",
    "medianprops = dict(linewidth=1)\n",
    "\n",
    "df[\"tweet_number\"] = df[\"tweet number\"] / (df[\"tweet number\"] + df[\"retweet number\"] + df[\"quote number\"])\n",
    "df[\"created_at\"] = -(df[\"created_at\"] - datetime.datetime(2017, 12, 29).timestamp())/86400\n",
    "\n",
    "\n",
    "df[\"statuses_count\"] = df[\"statuses_count\"] / df[\"created_at\"]\n",
    "df[\"followers_count\"] = df[\"followers_count\"] / df[\"created_at\"]\n",
    "df[\"followees_count\"] = df[\"followees_count\"] / df[\"created_at\"]\n"
   ]
  },
  {
   "cell_type": "code",
   "execution_count": 3,
   "metadata": {},
   "outputs": [
    {
     "name": "stdout",
     "output_type": "stream",
     "text": [
      "\\#tweets/day\n",
      "1.2789636632978333e-06\n",
      "8.865295569484873e-39\n",
      "7.459813661781633e-10\n",
      "\\#followers/day\n",
      "0.0030565961928909514\n",
      "1.1868930519756187e-19\n",
      "1.0369700326377058e-16\n",
      "\\#followees/day\n",
      "5.772724179343999e-07\n",
      "1.5011444501881624e-22\n",
      "0.00045935269484532034\n",
      "\\#favorites\n",
      "0.009072542767272911\n",
      "1.5112790159842322e-28\n",
      "0.07865454001988223\n",
      "avg(interval)\n",
      "9.696788298905948e-08\n",
      "0.16310610564236422\n",
      "4.7837282076570465e-22\n"
     ]
    }
   ],
   "source": [
    "attributes_all = [[\"statuses_count\", \"followers_count\", \"followees_count\", \"favorites_count\", \"time_diff\"]]\n",
    "\n",
    "titles_all = [[\"\\#tweets/day\", \"\\#followers/day\", \"\\#followees/day\", \"\\#favorites\", \"avg(interval)\"]]\n",
    "\n",
    "first = True\n",
    "for axs, attributes, titles in zip(axzs, attributes_all, titles_all):\n",
    "\n",
    "    for axis, attribute, title in zip(axs, attributes, titles):\n",
    "        N = 6\n",
    "        men = [df[df.hate == \"hateful\"],\n",
    "               df[df.hate == \"normal\"],\n",
    "               df[df.hate_neigh],\n",
    "               df[df.normal_neigh],\n",
    "               df[df.is_63_2 == True],\n",
    "               df[df.is_63_2 == False]]\n",
    "        tmp = []\n",
    "        medians, medians_ci = [], []\n",
    "        averages, averages_ci = [], []\n",
    "\n",
    "        for category in men:\n",
    "            boots = bootstrap(category[attribute], func=np.nanmean, n_boot=1000)\n",
    "            ci_tmp = ci(boots)\n",
    "            average = (ci_tmp[0] + ci_tmp[1]) / 2\n",
    "            ci_average = (ci_tmp[1] - ci_tmp[0]) / 2\n",
    "            averages.append(average)\n",
    "            averages_ci.append(ci_average)\n",
    "            boots = bootstrap(category[attribute], func=np.nanmedian, n_boot=1000)\n",
    "            ci_tmp = ci(boots)\n",
    "            median = (ci_tmp[0] + ci_tmp[1]) / 2\n",
    "            ci_median = (ci_tmp[1] - ci_tmp[0]) / 2\n",
    "            medians.append(median)\n",
    "            medians_ci.append(ci_median)\n",
    "\n",
    "            tmp.append(category[attribute].values)\n",
    "\n",
    "        ind = np.array([0, 1, 2, 3, 4, 5])\n",
    "        width = .6\n",
    "\n",
    "        _, n_h = stats.ttest_ind(tmp[0], tmp[1], equal_var=False, nan_policy='omit')\n",
    "        _, nn_nh = stats.ttest_ind(tmp[2], tmp[3], equal_var=False, nan_policy='omit')\n",
    "        _, s_ns = stats.ttest_ind(tmp[4], tmp[5], equal_var=False, nan_policy='omit')\n",
    "\n",
    "        print(title)\n",
    "        print(n_h)\n",
    "        print(nn_nh)\n",
    "        print(s_ns)\n",
    "        rects = axis.bar(ind, averages, width, yerr=averages_ci, color=color_mine,\n",
    "                         ecolor=\"#212823\", edgecolor=[\"#4D1A17\"]*6, linewidth=.3)\n",
    "\n",
    "        axis.yaxis.set_major_formatter(form)\n",
    "\n",
    "        axis.set_xticks([])\n",
    "        axis.set_title(title)\n",
    "        axis.set_ylabel(\"\")\n",
    "        axis.set_xlabel(\"\")\n",
    "        axis.axvline(1.5, ls='dashed', linewidth=0.3, color=\"#C0C0C0\")\n",
    "        axis.axvline(3.5, ls='dashed', linewidth=0.3, color=\"#C0C0C0\")\n"
   ]
  },
  {
   "cell_type": "code",
   "execution_count": 4,
   "metadata": {},
   "outputs": [],
   "source": [
    "f.legend((rects[0], rects[1], rects[2], rects[3], rects[4], rects[5]),\n",
    "         ('Hateful User', 'Normal User', 'Hateful Neigh.', 'Normal Neigh.', 'Suspended', 'Active'),\n",
    "         loc='upper center',\n",
    "         fancybox=True, shadow=True, ncol=6)\n",
    "f.tight_layout(rect=[0, 0, 1, .95])\n",
    "\n"
   ]
  },
  {
   "cell_type": "code",
   "execution_count": 5,
   "metadata": {},
   "outputs": [],
   "source": [
    "f.savefig(\"results/activity_analysis.pdf\")"
   ]
  },
  {
   "cell_type": "code",
   "execution_count": 6,
   "metadata": {},
   "outputs": [
    {
     "data": {
      "text/plain": [
       "Index(['user_id', 'hate', 'hate_neigh', 'normal_neigh', 'statuses_count',\n",
       "       'followers_count', 'followees_count', 'favorites_count', 'listed_count',\n",
       "       'betweenness',\n",
       "       ...\n",
       "       'c_medieval_empath', 'c_journalism_empath', 'c_farming_empath',\n",
       "       'c_plant_empath', 'c_shopping_empath', 'c_ship_empath',\n",
       "       'c_religion_empath', 'c_tourism_empath', 'c_power_empath',\n",
       "       'tweet_number'],\n",
       "      dtype='object', length=1040)"
      ]
     },
     "execution_count": 6,
     "metadata": {},
     "output_type": "execute_result"
    }
   ],
   "source": [
    "df.columns"
   ]
  }
 ],
 "metadata": {
  "kernelspec": {
   "display_name": "Python 3",
   "language": "python",
   "name": "python3"
  },
  "language_info": {
   "codemirror_mode": {
    "name": "ipython",
    "version": 3
   },
   "file_extension": ".py",
   "mimetype": "text/x-python",
   "name": "python",
   "nbconvert_exporter": "python",
   "pygments_lexer": "ipython3",
   "version": "3.6.4"
  }
 },
 "nbformat": 4,
 "nbformat_minor": 2
}
