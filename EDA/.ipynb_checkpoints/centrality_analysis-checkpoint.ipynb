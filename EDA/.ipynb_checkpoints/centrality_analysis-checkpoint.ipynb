{
 "cells": [
  {
   "cell_type": "code",
   "execution_count": null,
   "metadata": {},
   "outputs": [],
   "source": [
    "import matplotlib.pyplot as plt\n",
    "import numpy as np\n",
    "import pandas as pd\n",
    "import seaborn as sns\n",
    "from matplotlib.ticker import FuncFormatter\n",
    "from seaborn.algorithms import bootstrap\n",
    "from seaborn.utils import ci\n",
    "\n",
    "from tmp.utils import formatter"
   ]
  },
  {
   "cell_type": "code",
   "execution_count": null,
   "metadata": {},
   "outputs": [],
   "source": [
    "form = FuncFormatter(formatter)\n",
    "\n",
    "plt.rc('font', family='serif')\n",
    "plt.rc('text', usetex=False)\n",
    "sns.set(style=\"whitegrid\", font=\"serif\")\n",
    "color_mine = [\"#F8414A\", \"#5676A1\", \"#FD878D\", \"#385A89\",  \"#FFFACD\", \"#EFCC00\"]\n",
    "\n",
    "df = pd.read_csv(\"../data/users_neighborhood_anon.csv\")\n",
    "\n",
    "f, axzs = plt.subplots(2, 3, figsize=(5.4, 3))\n",
    "boxprops = dict(linewidth=0.3)\n",
    "whiskerprops = dict(linewidth=0.3)\n",
    "capprops = dict(linewidth=0.3)\n",
    "medianprops = dict(linewidth=1)\n"
   ]
  },
  {
   "cell_type": "code",
   "execution_count": null,
   "metadata": {},
   "outputs": [],
   "source": [
    "auxfs = [[\"median\", \"median\", \"median\"],\n",
    "        [\"avg\", \"avg\", \"avg\"]]\n",
    "\n",
    "attributes_all = [[\"betweenness\", \"eigenvector\", \"out_degree\"],\n",
    "                  [\"betweenness\", \"eigenvector\", \"out_degree\"]]\n",
    "titles_all = [[\"median(betweenness)\", \"median(eigenvector)\", \"median(out degree)\"],\n",
    "              [\"avg(betweenness)\", \"avg(eigenvector)\", \"avg(out degree)\"]]\n",
    "\n",
    "rects = None\n",
    "first = True\n",
    "for axs, attributes, titles, auxf in zip(axzs, attributes_all, titles_all, auxfs):\n",
    "\n",
    "    for axis, attribute, title, aux in zip(axs, attributes, titles, auxf):\n",
    "        N = 4\n",
    "        men = [df[df.hate == \"hateful\"],\n",
    "               df[df.hate == \"normal\"],\n",
    "               df[df.hate_neigh],\n",
    "               df[df.normal_neigh],\n",
    "               df[df.is_63_2 == True],\n",
    "               df[df.is_63_2 == False]]\n",
    "        tmp = []\n",
    "        medians, medians_ci = [], []\n",
    "        averages, averages_ci = [], []\n",
    "\n",
    "        for category in men:\n",
    "            boots = bootstrap(category[attribute], func=np.nanmean, n_boot=1000)\n",
    "            ci_tmp = ci(boots)\n",
    "            average = (ci_tmp[0] + ci_tmp[1]) / 2\n",
    "            ci_average = (ci_tmp[1] - ci_tmp[0]) / 2\n",
    "            averages.append(average)\n",
    "            averages_ci.append(ci_average)\n",
    "            boots = bootstrap(category[attribute], func=np.nanmedian, n_boot=1000)\n",
    "            ci_tmp = ci(boots)\n",
    "            median = (ci_tmp[0] + ci_tmp[1]) / 2\n",
    "            ci_median = (ci_tmp[1] - ci_tmp[0]) / 2\n",
    "            medians.append(median)\n",
    "            medians_ci.append(ci_median)\n",
    "\n",
    "            tmp.append(category[attribute].values)\n",
    "\n",
    "        ind = np.array([0, 1, 2, 3, 4, 5])\n",
    "        width = .6\n",
    "        if aux == \"median\":\n",
    "            rects = axis.bar(ind, medians, width, yerr=medians_ci, color=color_mine,\n",
    "                             ecolor=\"#212823\", edgecolor=[\"#4D1A17\"]*6, linewidth=.3)\n",
    "        if aux == \"avg\":\n",
    "            rects = axis.bar(ind, averages, width, yerr=averages_ci, color=color_mine,\n",
    "                             ecolor=\"#212823\", edgecolor=[\"#4D1A17\"]*6, linewidth=.3)\n",
    "\n",
    "        axis.yaxis.set_major_formatter(form)\n",
    "\n",
    "        axis.set_xticks([])\n",
    "        axis.set_title(title)\n",
    "        axis.set_ylabel(\"\")\n",
    "        axis.set_xlabel(\"\")\n",
    "        axis.axvline(1.5, ls='dashed', linewidth=0.3, color=\"#C0C0C0\")\n",
    "        axis.axvline(4.5, ls='dashed', linewidth=0.3, color=\"#C0C0C0\")\n",
    "\n",
    "    first = False\n"
   ]
  },
  {
   "cell_type": "code",
   "execution_count": null,
   "metadata": {},
   "outputs": [],
   "source": [
    "f.tight_layout(rect=[0, 0, 1, 1])"
   ]
  },
  {
   "cell_type": "code",
   "execution_count": null,
   "metadata": {},
   "outputs": [],
   "source": [
    "f.savefig(\"results/betweenness.pdf\")"
   ]
  }
 ],
 "metadata": {
  "kernelspec": {
   "display_name": "Python 3",
   "language": "python",
   "name": "python3"
  },
  "language_info": {
   "codemirror_mode": {
    "name": "ipython",
    "version": 3
   },
   "file_extension": ".py",
   "mimetype": "text/x-python",
   "name": "python",
   "nbconvert_exporter": "python",
   "pygments_lexer": "ipython3",
   "version": "3.6.4"
  }
 },
 "nbformat": 4,
 "nbformat_minor": 2
}
