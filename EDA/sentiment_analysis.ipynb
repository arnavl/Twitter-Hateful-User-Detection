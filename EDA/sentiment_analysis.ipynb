{
 "cells": [
  {
   "cell_type": "code",
   "execution_count": 1,
   "metadata": {},
   "outputs": [],
   "source": [
    "import matplotlib.pyplot as plt\n",
    "import numpy as np\n",
    "import pandas as pd\n",
    "import scipy.stats as stats\n",
    "import seaborn as sns\n",
    "from matplotlib.ticker import FuncFormatter\n",
    "\n",
    "from tmp.utils import formatter"
   ]
  },
  {
   "cell_type": "code",
   "execution_count": 3,
   "metadata": {},
   "outputs": [
    {
     "data": {
      "image/png": "[encoded data removed]",
      "text/plain": [
       "<Figure size 388.8x108 with 3 Axes>"
      ]
     },
     "metadata": {},
     "output_type": "display_data"
    }
   ],
   "source": [
    "form = FuncFormatter(formatter)\n",
    "\n",
    "plt.rc('font', family='serif')\n",
    "plt.rc('text', usetex=False)\n",
    "sns.set(style=\"whitegrid\", font=\"serif\")\n",
    "color_mine = [\"#F8414A\", \"#5676A1\", \"#FD878D\", \"#385A89\",  \"#FFFACD\", \"#EFCC00\"]\n",
    "\n",
    "df = pd.read_csv(\"../data/users_neighborhood_anon.csv\")\n",
    "\n",
    "f, axzs = plt.subplots(1, 3, figsize=(5.4, 1.5))\n",
    "axzs = [axzs]\n",
    "boxprops = dict(linewidth=0.3)\n",
    "whiskerprops = dict(linewidth=0.3)\n",
    "capprops = dict(linewidth=0.3)\n",
    "medianprops = dict(linewidth=1)\n"
   ]
  },
  {
   "cell_type": "code",
   "execution_count": 4,
   "metadata": {},
   "outputs": [
    {
     "name": "stdout",
     "output_type": "stream",
     "text": [
      "sentiment\n",
      "8.077629958930836e-116\n",
      "1.384e-320\n",
      "2.3608932737804113e-82\n",
      "subjectivity\n",
      "5.470142656065715e-22\n",
      "1.3509603788899121e-11\n",
      "3.2218536565511764e-05\n",
      "bad words\n",
      "2.0536408750230293e-11\n",
      "4.92386996268451e-37\n",
      "7.195522891518388e-27\n"
     ]
    }
   ],
   "source": [
    "attributes_all = [[\"sentiment\", \"subjectivity\", \"baddies\"]]\n",
    "titles_all = [[\"sentiment\", \"subjectivity\", \"bad words\"]]\n",
    "\n",
    "rects = None\n",
    "first = True\n",
    "for axs, attributes, titles in zip(axzs, attributes_all, titles_all):\n",
    "\n",
    "    for axis, attribute, title in zip(axs, attributes, titles):\n",
    "        N = 4\n",
    "        men = [df[df.hate == \"hateful\"],\n",
    "               df[df.hate == \"normal\"],\n",
    "               df[df.hate_neigh],\n",
    "               df[df.normal_neigh],\n",
    "               df[df[\"is_63_2\"] == True],\n",
    "               df[df[\"is_63_2\"] == False]]\n",
    "        tmp = []\n",
    "        medians, medians_ci = [], []\n",
    "        averages, averages_ci = [], []\n",
    "\n",
    "        for category, color in zip(men, color_mine):\n",
    "            tmp.append(category[attribute].values)\n",
    "\n",
    "        sns.boxplot(data=tmp, palette=color_mine, showfliers=False, ax=axis, orient=\"v\", width=0.8, linewidth=.5)\n",
    "\n",
    "        ind = np.array([0, 1, 2, 3])\n",
    "        _, n_h = stats.ttest_ind(tmp[0], tmp[1], equal_var=False, nan_policy='omit')\n",
    "        _, nn_nh = stats.ttest_ind(tmp[2], tmp[3], equal_var=False, nan_policy='omit')\n",
    "        _, ns_ns2 = stats.ttest_ind(tmp[4], tmp[5], equal_var=False, nan_policy='omit')\n",
    "\n",
    "        print(title)\n",
    "        print(n_h)\n",
    "        print(nn_nh)\n",
    "        print(ns_ns2)\n",
    "\n",
    "        axis.yaxis.set_major_formatter(form)\n",
    "\n",
    "        axis.set_xticks([])\n",
    "        axis.set_title(title)\n",
    "        axis.set_ylabel(\"\")\n",
    "        axis.set_xlabel(\"\")\n",
    "        axis.axvline(1.5, ls='dashed', linewidth=0.3, color=\"#C0C0C0\")\n",
    "        axis.axvline(3.5, ls='dashed', linewidth=0.3, color=\"#C0C0C0\")\n",
    "\n",
    "        axzs[0][0].set_ylim(-.15, .4)\n",
    "        axzs[0][1].set_ylim(.30, .70)\n",
    "        axzs[0][2].set_ylim(-20, 100)"
   ]
  },
  {
   "cell_type": "code",
   "execution_count": 5,
   "metadata": {},
   "outputs": [],
   "source": [
    "f.tight_layout(rect=[0, 0, 1, 1])\n",
    "f.savefig(\"results/sentiment.pdf\")"
   ]
  }
 ],
 "metadata": {
  "kernelspec": {
   "display_name": "Python 3",
   "language": "python",
   "name": "python3"
  },
  "language_info": {
   "codemirror_mode": {
    "name": "ipython",
    "version": 3
   },
   "file_extension": ".py",
   "mimetype": "text/x-python",
   "name": "python",
   "nbconvert_exporter": "python",
   "pygments_lexer": "ipython3",
   "version": "3.6.4"
  }
 },
 "nbformat": 4,
 "nbformat_minor": 2
}
